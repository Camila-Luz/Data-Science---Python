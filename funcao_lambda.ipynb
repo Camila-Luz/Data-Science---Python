{
  "nbformat": 4,
  "nbformat_minor": 0,
  "metadata": {
    "colab": {
      "provenance": [],
      "authorship_tag": "ABX9TyP1hwa7vJeCY93PBWD+4UWl",
      "include_colab_link": true
    },
    "kernelspec": {
      "name": "python3",
      "display_name": "Python 3"
    },
    "language_info": {
      "name": "python"
    }
  },
  "cells": [
    {
      "cell_type": "markdown",
      "metadata": {
        "id": "view-in-github",
        "colab_type": "text"
      },
      "source": [
        "<a href=\"https://colab.research.google.com/github/Camila-Luz/Data-Science---Python/blob/main/funcao_lambda.ipynb\" target=\"_parent\"><img src=\"https://colab.research.google.com/assets/colab-badge.svg\" alt=\"Open In Colab\"/></a>"
      ]
    },
    {
      "cell_type": "markdown",
      "source": [
        "# Como **criar funções lambda**?\n",
        "\n",
        "## As funções lambda possuem a **palavra reservada que é a própria 'lambda'** e são seguidas de um ou mais **argumentos/atributos e uma expressão**.\n",
        "\n",
        "* EX. lambda {argumentos} : {expressão}"
      ],
      "metadata": {
        "id": "gevbnKT2lV8_"
      }
    },
    {
      "cell_type": "markdown",
      "source": [
        "## Observação:\n",
        "As funções lambda **NÃO podem conter outros comandos(statements)**.\n",
        "\n",
        "* return\n",
        "* pass\n",
        "* assert\n",
        "* raise"
      ],
      "metadata": {
        "id": "c-joFfpRnXmJ"
      }
    },
    {
      "cell_type": "markdown",
      "source": [
        "# **Diferenças** entre as funções padrões (def) e as funções lambda?\n",
        "\n",
        "# Funções **LAMBDA**\n",
        "* Utilizada uma única vez\n",
        "* Definição em uma linha\n",
        "* Nomeada ou Anônima\n",
        "* Nenhum ou muitos parâmetros\n",
        "* Um ou muitos *retornos*\n",
        "\n",
        "# Funções 'Padrão'\n",
        "* Utilizada muitas vezes\n",
        "* Muitas linhas de código\n",
        "* Somente nomeada\n",
        "* Nenhum ou muitos parâmetros\n",
        "* Nenhum ou muitos retornos"
      ],
      "metadata": {
        "id": "ld7NSyqoks3K"
      }
    },
    {
      "cell_type": "markdown",
      "source": [
        "# EXEMPLOS LAMBDA"
      ],
      "metadata": {
        "id": "a7ZAuy3joh3Q"
      }
    },
    {
      "cell_type": "code",
      "source": [
        "soma = lambda x, y: x + y\n",
        "print(soma(2,2))"
      ],
      "metadata": {
        "colab": {
          "base_uri": "https://localhost:8080/"
        },
        "id": "ESG0tsTkopc7",
        "outputId": "5e41155c-3b8b-4ef0-bf95-d731b7df14c3"
      },
      "execution_count": 11,
      "outputs": [
        {
          "output_type": "stream",
          "name": "stdout",
          "text": [
            "4\n"
          ]
        }
      ]
    },
    {
      "cell_type": "code",
      "source": [
        "print((lambda x, y: x * y)(3,3))"
      ],
      "metadata": {
        "colab": {
          "base_uri": "https://localhost:8080/"
        },
        "id": "8FV4nrMAo7B5",
        "outputId": "11e979d8-57b5-4ea5-87a3-accefd81bfa3"
      },
      "execution_count": 13,
      "outputs": [
        {
          "output_type": "stream",
          "name": "stdout",
          "text": [
            "9\n"
          ]
        }
      ]
    },
    {
      "cell_type": "code",
      "source": [
        "subtrair = lambda"
      ],
      "metadata": {
        "colab": {
          "base_uri": "https://localhost:8080/"
        },
        "id": "hRU-uGNbp29u",
        "outputId": "75aa6864-d585-4135-b9f8-a26bf824afd7"
      },
      "execution_count": 14,
      "outputs": [
        {
          "output_type": "stream",
          "name": "stdout",
          "text": [
            "6\n"
          ]
        }
      ]
    },
    {
      "cell_type": "markdown",
      "source": [
        "# EXERCÍCIOS\n",
        "# 1. Crie uma função lambda que calcule o quadrado de um número.\n"
      ],
      "metadata": {
        "id": "6GA8_qL_h7y7"
      }
    },
    {
      "cell_type": "code",
      "execution_count": 2,
      "metadata": {
        "colab": {
          "base_uri": "https://localhost:8080/"
        },
        "id": "0sCJLWC4gmim",
        "outputId": "ecd5d247-bb27-4ca5-d89e-acded70c23cc"
      },
      "outputs": [
        {
          "output_type": "stream",
          "name": "stdout",
          "text": [
            "100\n"
          ]
        }
      ],
      "source": [
        "#   questao 1\n",
        "\n",
        "print((lambda x: x ** 2)(10))"
      ]
    },
    {
      "cell_type": "markdown",
      "source": [
        "# 2. Crie uma função lambda para verificar se o número é par."
      ],
      "metadata": {
        "id": "j7kMWP9fkDIX"
      }
    },
    {
      "cell_type": "code",
      "source": [
        "#   questao 2\n",
        "\n",
        "print((lambda x: x % 2 == 0)(10))"
      ],
      "metadata": {
        "colab": {
          "base_uri": "https://localhost:8080/"
        },
        "id": "uqwVpnr4iQXf",
        "outputId": "b44e597a-e0e5-4efd-a730-d12760da5633"
      },
      "execution_count": 3,
      "outputs": [
        {
          "output_type": "stream",
          "name": "stdout",
          "text": [
            "True\n"
          ]
        }
      ]
    },
    {
      "cell_type": "markdown",
      "source": [
        "# 3. Crie uma função lambda para converter strings em maiúsculas."
      ],
      "metadata": {
        "id": "fGUxecfZkFuR"
      }
    },
    {
      "cell_type": "code",
      "source": [
        "#   questao 3\n",
        "\n",
        "print((lambda txt: txt.upper())('hello world'))"
      ],
      "metadata": {
        "colab": {
          "base_uri": "https://localhost:8080/"
        },
        "id": "1l-kuZZxinsy",
        "outputId": "d48a17b2-7d5d-4541-99cb-a711a2b431ed"
      },
      "execution_count": 7,
      "outputs": [
        {
          "output_type": "stream",
          "name": "stdout",
          "text": [
            "HELLO WORLD\n"
          ]
        }
      ]
    },
    {
      "cell_type": "markdown",
      "source": [
        "# 4. Crie uma função lambda para calcular a área de um retângulo."
      ],
      "metadata": {
        "id": "sJs-cjyDkIrw"
      }
    },
    {
      "cell_type": "code",
      "source": [
        "#   questao 4\n",
        "\n",
        "print((lambda base, altura: base * altura)(10, 20))"
      ],
      "metadata": {
        "colab": {
          "base_uri": "https://localhost:8080/"
        },
        "id": "dN9iEAB9jtJc",
        "outputId": "bc62080c-32e1-4df7-cfcf-b633f8f7b2d8"
      },
      "execution_count": 8,
      "outputs": [
        {
          "output_type": "stream",
          "name": "stdout",
          "text": [
            "200\n"
          ]
        }
      ]
    },
    {
      "cell_type": "markdown",
      "source": [
        "# ANOTAÇÕES"
      ],
      "metadata": {
        "id": "uNKnHY_WnvGA"
      }
    },
    {
      "cell_type": "code",
      "source": [
        "# forma alternativa de criar lista (/list comprehension)\n",
        "lista = [*range(1,10)]\n",
        "print(lista)"
      ],
      "metadata": {
        "colab": {
          "base_uri": "https://localhost:8080/"
        },
        "id": "v0LiB7owi4f-",
        "outputId": "b2b79514-9643-457c-fd95-19db9152ad9d"
      },
      "execution_count": 4,
      "outputs": [
        {
          "output_type": "stream",
          "name": "stdout",
          "text": [
            "[1, 2, 3, 4, 5, 6, 7, 8, 9]\n"
          ]
        }
      ]
    },
    {
      "cell_type": "code",
      "source": [
        "map?"
      ],
      "metadata": {
        "id": "IfESHePznxcY"
      },
      "execution_count": 12,
      "outputs": []
    },
    {
      "cell_type": "markdown",
      "source": [
        "[DATABRICKS COMMUNITY](https://www.databricks.com/br/try-databricks?scid=7018Y000001Fi0cQAC&utm_medium=paid+search&utm_source=google&utm_campaign=19829725159&utm_adgroup=147439756296&utm_content=trial&utm_offer=try-databricks&utm_ad=665998519890&utm_term=databricks%20community&gclid=Cj0KCQjw3JanBhCPARIsAJpXTx4DBXGV2WMTGsqrOeinSvOkG1vbo7sv-LII4RpX4YBTX_YAmfO-eKsaAlMpEALw_wcB#account)"
      ],
      "metadata": {
        "id": "tpXqT0n4p-32"
      }
    }
  ]
}